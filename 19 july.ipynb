{
 "cells": [
  {
   "cell_type": "code",
   "execution_count": 1,
   "id": "79e1238d-89a1-4f0f-b43b-1fabfe015333",
   "metadata": {},
   "outputs": [
    {
     "ename": "TypeError",
     "evalue": "'str' object does not support item assignment",
     "output_type": "error",
     "traceback": [
      "\u001b[1;31m---------------------------------------------------------------------------\u001b[0m",
      "\u001b[1;31mTypeError\u001b[0m                                 Traceback (most recent call last)",
      "Cell \u001b[1;32mIn[1], line 2\u001b[0m\n\u001b[0;32m      1\u001b[0m s\u001b[38;5;241m=\u001b[39m\u001b[38;5;124m'\u001b[39m\u001b[38;5;124mnaresh\u001b[39m\u001b[38;5;124m'\u001b[39m\n\u001b[1;32m----> 2\u001b[0m s[\u001b[38;5;241m5\u001b[39m]\u001b[38;5;241m=\u001b[39m\u001b[38;5;124m'\u001b[39m\u001b[38;5;124mI\u001b[39m\u001b[38;5;124m'\u001b[39m\n",
      "\u001b[1;31mTypeError\u001b[0m: 'str' object does not support item assignment"
     ]
    }
   ],
   "source": [
    "s='naresh'\n",
    "s[5]='I'"
   ]
  },
  {
   "cell_type": "code",
   "execution_count": 4,
   "id": "58e58de4-0ce8-4945-89cd-52081a982a17",
   "metadata": {},
   "outputs": [
    {
     "data": {
      "text/plain": [
       "[4, 6, 'B']"
      ]
     },
     "execution_count": 4,
     "metadata": {},
     "output_type": "execute_result"
    }
   ],
   "source": [
    "L=[1,2,3,4,5,6,'A','B','C','D','E','F','G']\n",
    "L[3:9:2]"
   ]
  },
  {
   "cell_type": "code",
   "execution_count": 6,
   "id": "554778ed-8f3a-40c2-887e-987e66581c39",
   "metadata": {},
   "outputs": [
    {
     "data": {
      "text/plain": [
       "['E', 'C', 'A']"
      ]
     },
     "execution_count": 6,
     "metadata": {},
     "output_type": "execute_result"
    }
   ],
   "source": [
    "L[-3:-9:-2]"
   ]
  },
  {
   "cell_type": "code",
   "execution_count": 8,
   "id": "0bf4bf8c-768c-4880-b070-640be30d2cf5",
   "metadata": {},
   "outputs": [
    {
     "data": {
      "text/plain": [
       "['E']"
      ]
     },
     "execution_count": 8,
     "metadata": {},
     "output_type": "execute_result"
    }
   ],
   "source": [
    "L[-3:9:-2]"
   ]
  },
  {
   "cell_type": "code",
   "execution_count": 10,
   "id": "4ce0ab80-6e51-4231-b96a-0748347c3360",
   "metadata": {
    "scrolled": true
   },
   "outputs": [
    {
     "data": {
      "text/plain": [
       "['__add__',\n",
       " '__class__',\n",
       " '__contains__',\n",
       " '__delattr__',\n",
       " '__dir__',\n",
       " '__doc__',\n",
       " '__eq__',\n",
       " '__format__',\n",
       " '__ge__',\n",
       " '__getattribute__',\n",
       " '__getitem__',\n",
       " '__getnewargs__',\n",
       " '__getstate__',\n",
       " '__gt__',\n",
       " '__hash__',\n",
       " '__init__',\n",
       " '__init_subclass__',\n",
       " '__iter__',\n",
       " '__le__',\n",
       " '__len__',\n",
       " '__lt__',\n",
       " '__mod__',\n",
       " '__mul__',\n",
       " '__ne__',\n",
       " '__new__',\n",
       " '__reduce__',\n",
       " '__reduce_ex__',\n",
       " '__repr__',\n",
       " '__rmod__',\n",
       " '__rmul__',\n",
       " '__setattr__',\n",
       " '__sizeof__',\n",
       " '__str__',\n",
       " '__subclasshook__',\n",
       " 'capitalize',\n",
       " 'casefold',\n",
       " 'center',\n",
       " 'count',\n",
       " 'encode',\n",
       " 'endswith',\n",
       " 'expandtabs',\n",
       " 'find',\n",
       " 'format',\n",
       " 'format_map',\n",
       " 'index',\n",
       " 'isalnum',\n",
       " 'isalpha',\n",
       " 'isascii',\n",
       " 'isdecimal',\n",
       " 'isdigit',\n",
       " 'isidentifier',\n",
       " 'islower',\n",
       " 'isnumeric',\n",
       " 'isprintable',\n",
       " 'isspace',\n",
       " 'istitle',\n",
       " 'isupper',\n",
       " 'join',\n",
       " 'ljust',\n",
       " 'lower',\n",
       " 'lstrip',\n",
       " 'maketrans',\n",
       " 'partition',\n",
       " 'removeprefix',\n",
       " 'removesuffix',\n",
       " 'replace',\n",
       " 'rfind',\n",
       " 'rindex',\n",
       " 'rjust',\n",
       " 'rpartition',\n",
       " 'rsplit',\n",
       " 'rstrip',\n",
       " 'split',\n",
       " 'splitlines',\n",
       " 'startswith',\n",
       " 'strip',\n",
       " 'swapcase',\n",
       " 'title',\n",
       " 'translate',\n",
       " 'upper',\n",
       " 'zfill']"
      ]
     },
     "execution_count": 10,
     "metadata": {},
     "output_type": "execute_result"
    }
   ],
   "source": [
    "#LIST METHODS\n",
    "dir(' ')"
   ]
  },
  {
   "cell_type": "code",
   "execution_count": null,
   "id": "c81d687b-df3d-4ace-80c3-34100bf81952",
   "metadata": {},
   "outputs": [],
   "source": [
    "#append\n",
    "-adding elements in a list at last index \n",
    "-append method is very important\n",
    "-most of the time we will use append  in real time \n",
    "- when you add the value the original list wil be over write (donot talk about mutability)"
   ]
  },
  {
   "cell_type": "code",
   "execution_count": 13,
   "id": "7f594acb-20fd-455a-9c9e-3e8f0c466aa8",
   "metadata": {
    "scrolled": true
   },
   "outputs": [
    {
     "data": {
      "text/plain": [
       "['apple', 'ball', 'cat']"
      ]
     },
     "execution_count": 13,
     "metadata": {},
     "output_type": "execute_result"
    }
   ],
   "source": [
    "l=['apple','ball','cat']\n",
    "l"
   ]
  },
  {
   "cell_type": "code",
   "execution_count": null,
   "id": "9ab244f3-e4bf-4643-be51-412b53d200ac",
   "metadata": {},
   "outputs": [],
   "source": [
    "# methods"
   ]
  },
  {
   "cell_type": "code",
   "execution_count": 17,
   "id": "587765df-6eff-4216-a657-8011aa0bfec3",
   "metadata": {},
   "outputs": [],
   "source": [
    "l.append('doll')\n"
   ]
  },
  {
   "cell_type": "code",
   "execution_count": 18,
   "id": "cc6b6ee3-815f-4897-9b21-1c10dbcfc2c6",
   "metadata": {
    "scrolled": true
   },
   "outputs": [
    {
     "data": {
      "text/plain": [
       "['apple', 'ball', 'cat', 'doll', 'doll', 'doll', 'doll']"
      ]
     },
     "execution_count": 18,
     "metadata": {},
     "output_type": "execute_result"
    }
   ],
   "source": [
    "l"
   ]
  },
  {
   "cell_type": "code",
   "execution_count": null,
   "id": "203dd1fa-b179-47e4-b87b-41f0ba71007d",
   "metadata": {},
   "outputs": [],
   "source": [
    "#keyword vs methods\n",
    "len()\n",
    "max()\n",
    "min()\n",
    "reversed()\n",
    "sorted()\n",
    "#methods\n",
    "<package>.<method>()"
   ]
  },
  {
   "cell_type": "code",
   "execution_count": 20,
   "id": "63dcba55-2150-4853-b78b-9467a2e4390f",
   "metadata": {},
   "outputs": [
    {
     "data": {
      "text/plain": [
       "[1, 2, 3, 4, 100]"
      ]
     },
     "execution_count": 20,
     "metadata": {},
     "output_type": "execute_result"
    }
   ],
   "source": [
    "l1=[1,2,3,4]\n",
    "l1.append(100)\n",
    "l1"
   ]
  },
  {
   "cell_type": "code",
   "execution_count": 21,
   "id": "f01aa7fc-4e34-4dda-858b-82acd4d49d5d",
   "metadata": {},
   "outputs": [
    {
     "data": {
      "text/plain": [
       "[10, 20, 'apple', ['a', 1], True]"
      ]
     },
     "execution_count": 21,
     "metadata": {},
     "output_type": "execute_result"
    }
   ],
   "source": [
    "l2=[]\n",
    "l2.append(10)\n",
    "l2.append(20)\n",
    "l2.append('apple')\n",
    "l2.append(['a',1])\n",
    "l2.append(True)\n",
    "l2\n",
    "#we are not able to add  in one list many"
   ]
  },
  {
   "cell_type": "code",
   "execution_count": 22,
   "id": "83831994-b749-4a90-bbf4-4b843ee1e057",
   "metadata": {},
   "outputs": [
    {
     "ename": "TypeError",
     "evalue": "list.append() takes exactly one argument (3 given)",
     "output_type": "error",
     "traceback": [
      "\u001b[1;31m---------------------------------------------------------------------------\u001b[0m",
      "\u001b[1;31mTypeError\u001b[0m                                 Traceback (most recent call last)",
      "Cell \u001b[1;32mIn[22], line 1\u001b[0m\n\u001b[1;32m----> 1\u001b[0m l1\u001b[38;5;241m.\u001b[39mappend(\u001b[38;5;241m100\u001b[39m,\u001b[38;5;241m200\u001b[39m,\u001b[38;5;241m300\u001b[39m)\n",
      "\u001b[1;31mTypeError\u001b[0m: list.append() takes exactly one argument (3 given)"
     ]
    }
   ],
   "source": [
    "l1.append(100,200,300)# error  we can only give "
   ]
  },
  {
   "cell_type": "code",
   "execution_count": 30,
   "id": "ffc07642-bf60-41c6-9d9b-10f23b57e200",
   "metadata": {},
   "outputs": [
    {
     "data": {
      "text/plain": [
       "['sara', 10, 0.22]"
      ]
     },
     "execution_count": 30,
     "metadata": {},
     "output_type": "execute_result"
    }
   ],
   "source": [
    "l3=[]\n",
    "l3.append('sara')\n",
    "l3.append(10)\n",
    "l3.append(0.22)\n",
    "l3"
   ]
  },
  {
   "cell_type": "code",
   "execution_count": 31,
   "id": "e35a0bab-2255-454a-bd19-9ada106d01bc",
   "metadata": {},
   "outputs": [
    {
     "name": "stdout",
     "output_type": "stream",
     "text": [
      "1\n",
      "4\n",
      "9\n",
      "16\n",
      "25\n"
     ]
    }
   ],
   "source": [
    "square_list=[]\n",
    "for i in range(1,6):\n",
    "    print(i*i)\n",
    "    #square_list.append(i*i)\n",
    "    #print====square_list"
   ]
  },
  {
   "cell_type": "code",
   "execution_count": 41,
   "id": "8bf1fcc5-e729-4752-b8d6-0331f87d797d",
   "metadata": {},
   "outputs": [
    {
     "data": {
      "text/plain": [
       "[]"
      ]
     },
     "execution_count": 41,
     "metadata": {},
     "output_type": "execute_result"
    }
   ],
   "source": [
    "square_list=[]\n",
    "for i in range (1,1):\n",
    "    square_list.append(i*i)\n",
    "square_list"
   ]
  },
  {
   "cell_type": "code",
   "execution_count": 42,
   "id": "ff2ea257-7168-4808-847f-041e3a2abb9d",
   "metadata": {},
   "outputs": [
    {
     "data": {
      "text/plain": [
       "[1, 4, 9, 16, 25, 36, 49, 64, 81]"
      ]
     },
     "execution_count": 42,
     "metadata": {},
     "output_type": "execute_result"
    }
   ],
   "source": [
    "square_list=[]\n",
    "for i in range (1,10):\n",
    "    square_list.append(i*i)\n",
    "square_list"
   ]
  },
  {
   "cell_type": "code",
   "execution_count": 43,
   "id": "3fe1f31e-c674-400d-a7ab-f978171987bb",
   "metadata": {},
   "outputs": [],
   "source": [
    "s='  '\n",
    "for i in 'phython':\n",
    "    s=s+i\n"
   ]
  },
  {
   "cell_type": "code",
   "execution_count": 48,
   "id": "bdeb5d4c-4f6f-42da-a5a4-e800050a4dbb",
   "metadata": {},
   "outputs": [
    {
     "data": {
      "text/plain": [
       "([1, 5, 9], 15)"
      ]
     },
     "execution_count": 48,
     "metadata": {},
     "output_type": "execute_result"
    }
   ],
   "source": [
    "#1 id_list=[]\n",
    "str1='hai hai hai'\n",
    "for i in range (len(str)):\n",
    "    if str1[i]=='a':\n",
    "        id_list.append(i)\n",
    "id_list,sum(id_list)\n",
    "        \n"
   ]
  },
  {
   "cell_type": "code",
   "execution_count": 49,
   "id": "423c041f-eb06-4e63-8bb7-848b349c754a",
   "metadata": {},
   "outputs": [
    {
     "data": {
      "text/plain": [
       "15"
      ]
     },
     "execution_count": 49,
     "metadata": {},
     "output_type": "execute_result"
    }
   ],
   "source": [
    "summ=0\n",
    "str1='hai hai hai'\n",
    "for i in range (len(str)):\n",
    "    if str1[i]=='a':\n",
    "        summ=summ+i\n",
    "summ"
   ]
  },
  {
   "cell_type": "code",
   "execution_count": null,
   "id": "43f9fc97-c355-41b3-962d-543f278b560a",
   "metadata": {},
   "outputs": [],
   "source": []
  }
 ],
 "metadata": {
  "kernelspec": {
   "display_name": "Python 3 (ipykernel)",
   "language": "python",
   "name": "python3"
  },
  "language_info": {
   "codemirror_mode": {
    "name": "ipython",
    "version": 3
   },
   "file_extension": ".py",
   "mimetype": "text/x-python",
   "name": "python",
   "nbconvert_exporter": "python",
   "pygments_lexer": "ipython3",
   "version": "3.11.7"
  }
 },
 "nbformat": 4,
 "nbformat_minor": 5
}
